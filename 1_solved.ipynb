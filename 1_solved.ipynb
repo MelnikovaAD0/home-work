{
 "cells": [
  {
   "cell_type": "markdown",
   "id": "8c48bd3d-0e9c-4ff1-b400-0bb0e56502c2",
   "metadata": {
    "id": "sSos7q2_oBGj"
   },
   "source": [
    "## Problem 1"
   ]
  },
  {
   "cell_type": "markdown",
   "id": "621baefa-d3e0-4985-b7fe-87000cffd8e3",
   "metadata": {
    "id": "NiX8ePp0oBGk"
   },
   "source": [
    "Make a tuple containing natural numbers, the square of which is a multiple of 3, 4, but not a multiple of 8 and not exceeding 12345."
   ]
  },
  {
   "cell_type": "code",
   "execution_count": 3,
   "id": "2639b69b-d347-4494-b4a0-9618161efcb8",
   "metadata": {
    "id": "XmPHEnS9oBGk"
   },
   "outputs": [
    {
     "data": {
      "text/plain": [
       "(6, 18, 30, 42, 54, 66, 78, 90, 102)"
      ]
     },
     "execution_count": 3,
     "metadata": {},
     "output_type": "execute_result"
    }
   ],
   "source": [
    "# ceil(sqrt(12345)) == 112\n",
    "\n",
    "tuple(n for n in range(112) if n**2 % 3 == 0 and n**2 % 4 == 0 and n**2 % 8 != 0)"
   ]
  },
  {
   "cell_type": "markdown",
   "id": "77be18a5-28cc-4813-859d-7250e327848c",
   "metadata": {
    "id": "OZBeUyxcoBGk"
   },
   "source": [
    "## Problem 2"
   ]
  },
  {
   "cell_type": "markdown",
   "id": "130db465-38a4-401c-bcf0-08653a3ede2b",
   "metadata": {
    "id": "zIfvg22noBGk"
   },
   "source": [
    "\n",
    "Write a function that takes a two-dimensional array and a string as input and returns an array rotated 90 degrees counterclockwise if the string 'left' was passed, and clockwise if the string 'right' was passed.\n",
    "\n",
    "Example for input: $\\begin{bmatrix} 1 & 2 & 3 \\\\ 4 & 5 & 6 \\\\ 7 & 8 & 9 \\end{bmatrix}$.\\\n",
    "If the string 'left' is passed, the function should return $\\begin{bmatrix} 3 & 6 & 9 \\\\ 2 & 5 & 8 \\\\ 1 & 4 & 7 \\end{bmatrix}$, and if the string 'right' is passed, the function should return $\\begin{bmatrix} 7 & 4 & 1 \\\\ 8 & 5 & 2 \\\\ 9 & 6 & 3 \\end{bmatrix}$."
   ]
  },
  {
   "cell_type": "markdown",
   "id": "069359cc-2437-4e05-bfa8-7d8ac2a6da21",
   "metadata": {},
   "source": [
    "#### Механика работы функции\n",
    "\n",
    "- Поворот вправо\n",
    "  1. `array[::-1]`: Переворачиваем строки массива.\n",
    "  2. `zip(*array)`: Меняем строки и стобцы метами\n",
    "\n",
    "- Поворот влево\n",
    "  1. `zip(*array)`: Меняем строки и стобцы метами\n",
    "  2. `array[::-1]`: Переворачиваем строки массива.\n",
    "\n",
    "\n",
    "`list(map(list, array)`: Преобразуем кортежи созданные zip в списки"
   ]
  },
  {
   "cell_type": "code",
   "execution_count": 31,
   "id": "6998c653-983c-4eb8-90b3-91a0ccd69411",
   "metadata": {
    "id": "HNvy_cRjoBGk"
   },
   "outputs": [
    {
     "name": "stdout",
     "output_type": "stream",
     "text": [
      "Original array:\n",
      "[1, 2, 3]\n",
      "[4, 5, 6]\n",
      "[7, 8, 9]\n",
      "\n",
      "Rotated 90 degrees counterclockwise:\n",
      "[3, 6, 9]\n",
      "[2, 5, 8]\n",
      "[1, 4, 7]\n",
      "\n",
      "Rotated 90 degrees clockwise:\n",
      "[7, 4, 1]\n",
      "[8, 5, 2]\n",
      "[9, 6, 3]\n"
     ]
    }
   ],
   "source": [
    "def rotate_array(array, direction):\n",
    "    return list(map(list, zip(*array[::-1]) if direction == 'right' else list(zip(*array))[::-1]))\n",
    "\n",
    "# Example usage:\n",
    "array = [\n",
    "    [1, 2, 3],\n",
    "    [4, 5, 6],\n",
    "    [7, 8, 9]\n",
    "]\n",
    "\n",
    "print(\"Original array:\")\n",
    "for row in array:\n",
    "    print(row)\n",
    "\n",
    "rotated_left = rotate_array(array, 'left')\n",
    "print(\"\\nRotated 90 degrees counterclockwise:\")\n",
    "for row in rotated_left:\n",
    "    print(row)\n",
    "\n",
    "rotated_right = rotate_array(array, 'right')\n",
    "print(\"\\nRotated 90 degrees clockwise:\")\n",
    "for row in rotated_right:\n",
    "    print(row)"
   ]
  },
  {
   "cell_type": "code",
   "execution_count": 38,
   "id": "6251dac4-b70e-4277-8094-7c05d7fd4f1f",
   "metadata": {},
   "outputs": [
    {
     "data": {
      "text/plain": [
       "[[1, 2, 3], [4, 5, 6], [7, 8, 9]]"
      ]
     },
     "execution_count": 38,
     "metadata": {},
     "output_type": "execute_result"
    }
   ],
   "source": [
    "array"
   ]
  },
  {
   "cell_type": "markdown",
   "id": "f083d678-753c-4710-a056-2592f53aefd0",
   "metadata": {
    "id": "_dY-PFlCoBGk"
   },
   "source": [
    "## Problem 3"
   ]
  },
  {
   "cell_type": "markdown",
   "id": "81b8605f-0ab0-4d05-97a0-3ef8c1f360f1",
   "metadata": {
    "id": "3CaIwcm0oBGk"
   },
   "source": [
    "Write a function that takes a string as input and returns a dictionary containing the number of occurrences of each character in the string.\n",
    "\n",
    "Example for the string 'hello, world!': {'h': 1, 'e': 1, 'l': 3, 'o': 2, ',': 1, ' ': 1, 'w': 1, 'r': 1, 'd': 1, '!': 1}."
   ]
  },
  {
   "cell_type": "markdown",
   "id": "18ca6ccd-0023-4333-b83b-3427687fa36c",
   "metadata": {},
   "source": [
    "#### Механика работы функции\n",
    "- `list(s)`: Преобразует строку в список её символов.\n",
    "- `set(list(s))`: Преобразует строку в множество её уникальных символов.\n",
    "- `filter(lambda x: x == c, list(s))`: Возвращает итератор, содержащий символы строки, которые равны `c`.\n",
    "- `len(list(iter))`: Возвращает длину итератора (в данном случае, длина подпоследовательности исходной строки, содержащей только символы `c`, что равно количеству вхождений `c` в строку).\n"
   ]
  },
  {
   "cell_type": "code",
   "execution_count": 8,
   "id": "c794fe2a-f20b-41df-8fb5-c4aa921f826b",
   "metadata": {
    "id": "rlSbHusZoBGk"
   },
   "outputs": [
    {
     "data": {
      "text/plain": [
       "{'d': 1, 'h': 1, 'l': 3, 'w': 1, 'r': 1, ' ': 1, '!': 1, 'e': 1, 'o': 2}"
      ]
     },
     "execution_count": 8,
     "metadata": {},
     "output_type": "execute_result"
    }
   ],
   "source": [
    "def count_symbols(s):\n",
    "    return {c: len(list((filter(lambda x: x == c, list(s))))) for c in set(list(s))}\n",
    "\n",
    "count_symbols('hello world!')"
   ]
  },
  {
   "cell_type": "markdown",
   "id": "84a168d2-2a4d-4352-bbd8-c2deeb75608e",
   "metadata": {
    "id": "KBGJ7PeboBGk"
   },
   "source": [
    "## Problem 4"
   ]
  },
  {
   "cell_type": "markdown",
   "id": "a0ffe8f6-1d9e-4641-b374-d93dc59b0a4c",
   "metadata": {
    "id": "XS4Seqa9oBGk"
   },
   "source": [
    "### Implementing a Library Management System\n",
    "\n",
    "#### Description\n",
    "\n",
    "You are required to design and implement a system for managing books and users in a library. The system should allow for the management of books (adding, deleting, searching by various criteria) and users (registration, deletion, searching), as well as tracking the history of interactions between them (issuing and returning books).\n",
    "\n",
    "#### Tasks\n",
    "\n",
    "1. **`Book` Class**:\n",
    "   - Attributes: title, author, year of publication, ISBN, number of copies.\n",
    "   - Methods: constructor, methods to get information about the book, method to change the number of copies (when issuing and returning books).\n",
    "\n",
    "2. **`User` Class**:\n",
    "   - Attributes: user name, library card number, list of borrowed books.\n",
    "   - Methods: constructor, methods for user registration, methods for adding and removing books from the borrowed list.\n",
    "\n",
    "3. **`Library` Class**:\n",
    "   - Attributes: list of books, list of users, transaction history (who, when, which book was borrowed and returned).\n",
    "   - Methods: constructor, methods for adding and deleting books and users, methods for issuing and returning books, searching for books and users by various criteria, method to display the transaction history.\n",
    "\n",
    "#### Assignment\n",
    "\n",
    "1. Implement the `Book`, `User`, and `Library` classes with the specified attributes and methods.\n",
    "2. Create several books and users, and add them to the library system.\n",
    "3. Implement scenarios for issuing books to users and their return.\n",
    "4. Display the transaction history to show how books were issued and returned.\n"
   ]
  },
  {
   "cell_type": "code",
   "execution_count": 53,
   "id": "7c69ef15-2537-4049-ac8a-6e0cac56b529",
   "metadata": {
    "id": "IbqwtWWsoBGl"
   },
   "outputs": [
    {
     "name": "stdout",
     "output_type": "stream",
     "text": [
      "User: Alice, Time: 2025-02-16 14:51:59.682557, Book: The Great Gatsby, Action: Issued\n",
      "User: Bob, Time: 2025-02-16 14:51:59.682565, Book: 1984, Action: Issued\n",
      "User: Bob, Time: 2025-02-16 14:51:59.682566, Book: The Great Gatsby, Action: Issue refused\n",
      "User: Alice, Time: 2025-02-16 14:51:59.682567, Book: The Great Gatsby, Action: Returned\n",
      "User: Bob, Time: 2025-02-16 14:51:59.682568, Book: 1984, Action: Returned\n",
      "User: Alice, Time: 2025-02-16 14:51:59.682569, Book: To Kill a Mockingbird, Action: Return refused\n",
      "User: Alice, Time: 2025-02-16 14:51:59.682570, Book: The Great Gatsby, Action: Return refused\n"
     ]
    }
   ],
   "source": [
    "from datetime import datetime\n",
    "\n",
    "class Book:\n",
    "    def __init__(self, title, author, year, isbn, num_copies):\n",
    "        self.title = title\n",
    "        self.author = author\n",
    "        self.year = year\n",
    "        self.isbn = isbn\n",
    "        self.num_copies = num_copies\n",
    "\n",
    "    def get_info(self):\n",
    "        return f\"Title: {self.title}, Author: {self.author}, Year: {self.year}, ISBN: {self.isbn}, Copies: {self.num_copies}\"\n",
    "\n",
    "    def change_num_copes(self, change):\n",
    "        self.num_copies += change\n",
    "\n",
    "class User:\n",
    "    def __init__(self, user_name, card_number):\n",
    "        self.user_name = user_name\n",
    "        self.card_number = card_number\n",
    "        self.borrowed_books = []\n",
    "\n",
    "    def register(self, user_name, card_number):\n",
    "        self.user_name = user_name\n",
    "        self.card_number = card_number\n",
    "\n",
    "    def add_book(self, book):\n",
    "        if book not in self.borrowed_books:\n",
    "            self.borrowed_books.append(book)\n",
    "\n",
    "    def remove_book(self, book):\n",
    "        if book in self.borrowed_books:\n",
    "            self.borrowed_books.remove(book)\n",
    "\n",
    "    def get_info(self):\n",
    "        return f\"User Name: {self.user_name}, Card Number: {self.card_number}, Borrowed Books: {[book.title for book in self.borrowed_books]}\"\n",
    "\n",
    "class Library:\n",
    "    def __init__(self):\n",
    "        self.books = []\n",
    "        self.users = []\n",
    "        self.transactionhistory = []\n",
    "\n",
    "    def add_book(self, book):\n",
    "        self.books.append(book)\n",
    "\n",
    "    def delete_book(self, book):\n",
    "        if book in selfbooks:\n",
    "            self.books.remove(book)\n",
    "\n",
    "    def add_user(self, user):\n",
    "        self.users.append(user)\n",
    "\n",
    "    def delete_user(self, user):\n",
    "        if user in self.users:\n",
    "            self.users.remove(user)\n",
    "\n",
    "    def issue_book(self, user, book):\n",
    "        if book in self.books and user in self.users and book.num_copies > 0:\n",
    "            book.change_num_copes(-1)\n",
    "            user.add_book(book)\n",
    "            self.transactionhistory.append((user.user_name, datetime.now(), book.title, \"Issued\"))\n",
    "            return True\n",
    "\n",
    "        self.transactionhistory.append((user.user_name, datetime.now(), book.title, \"Issue refused\"))\n",
    "        return False\n",
    "\n",
    "    def return_book(self, user, book):\n",
    "        if book in self.books and user in self.users and book in user.borrowed_books:\n",
    "            book.change_num_copes(1)\n",
    "            user.remove_book(book)\n",
    "            self.transactionhistory.append((user.user_name, datetime.now(), book.title, \"Returned\"))\n",
    "            return True\n",
    "\n",
    "        self.transactionhistory.append((user.user_name, datetime.now(), book.title, \"Return refused\"))\n",
    "        return False\n",
    "\n",
    "    def search_book(self, criteria, value):\n",
    "        return [book for book in self.books if getattr(book, criteria) == value]\n",
    "\n",
    "    def search_user(self, criteria, value):\n",
    "        return [user for user in self.users if getattr(user, criteria) == value]\n",
    "\n",
    "    def display_transaction_history(self):\n",
    "        for transaction in self.transactionhistory:\n",
    "            print(f\"User: {transaction[0]}, Time: {transaction[1]}, Book: {transaction[2]}, Action: {transaction[3]}\")\n",
    "\n",
    "# Пример использования\n",
    "if __name__ == \"__main__\":\n",
    "    # Создаем книги\n",
    "    book1 = Book(\"The Great Gatsby\", \"F. Scott Fitzgerald\", 1925, \"9780743273552\", 1)\n",
    "    book2 = Book(\"1984\", \"George Orwell\", 1949, \"9780451529729\", 2)\n",
    "    book3 = Book(\"To Kill a Mockingbird\", \"Harper Lee\", 1960, \"9780061947417\", 1)\n",
    "    book3 = Book(\"To Kill a Mockingbird\", \"Harper Lee\", 1960, \"9780061947417\", 1)\n",
    "\n",
    "    # Создаем пользователей\n",
    "    user1 = User(\"Alice\", \"12345\")\n",
    "    user2 = User(\"Bob\", \"67890\")\n",
    "\n",
    "    # Создаем библиотеку\n",
    "    library = Library()\n",
    "\n",
    "    # Добавляем книги и пользователей в библиотеку\n",
    "    library.add_book(book1)\n",
    "    library.add_book(book2)\n",
    "    library.add_user(user1)\n",
    "    library.add_user(user2)\n",
    "\n",
    "    # Выдаем книги пользователям\n",
    "    library.issue_book(user1, book1)\n",
    "    library.issue_book(user2, book2)\n",
    "    library.issue_book(user2, book1)\n",
    "    \n",
    "    # Возвращаем книги\n",
    "    library.return_book(user1, book1)\n",
    "    library.return_book(user2, book2)\n",
    "    library.return_book(user1, book3)\n",
    "    library.return_book(user1, book1)\n",
    "\n",
    "    # Показываем историю транзакций\n",
    "    library.display_transaction_history()"
   ]
  },
  {
   "cell_type": "markdown",
   "id": "0d12d97d-be42-4326-8eb8-c78b7a80652a",
   "metadata": {
    "id": "0c8zRbSIoBGl"
   },
   "source": [
    "## Problem 5*"
   ]
  },
  {
   "cell_type": "markdown",
   "id": "2bc69695-53dc-4452-9f43-394f3ce51bcf",
   "metadata": {
    "id": "8ltdzRmOoBGl"
   },
   "source": [
    "Explain why list `b` changes after the execution of the following code:\n",
    "\n",
    "```python\n",
    "a = [1, 2, 3]\n",
    "b = a\n",
    "a[0] = 4\n",
    "print(b)\n",
    "```"
   ]
  },
  {
   "cell_type": "markdown",
   "id": "f35bb171-a94c-4016-ac4d-4bae872b0411",
   "metadata": {},
   "source": [
    "- Списки являются *изменяемыми* объектами, что означает, что вы можете изменять их содержимое после их создания.\n",
    "- В случае изменяемых объектов при операции присваивания, например, `b = a`, не создаётся `a`. Вместо этого, `b` становится *ссылкой* на тот же объект, на который ссылается `a`.\n",
    "- Поскольку список является изменяемым объектом, любое изменение, внесенное в список через одну из переменных, будет видно через другую переменную, так как они обе указывают на один и тот же список."
   ]
  },
  {
   "cell_type": "markdown",
   "id": "a745fa2c-5ccf-4c1d-8948-9c704066f4b0",
   "metadata": {
    "id": "TmXLkc_foBGl"
   },
   "source": [
    "## Problem 6*"
   ]
  },
  {
   "cell_type": "markdown",
   "id": "840d0a32-1c1d-4119-81ef-3d607d383b8c",
   "metadata": {
    "id": "Gn0ibiVCoBGl"
   },
   "source": [
    "Let\n",
    "$$A = \\sum_{i=1}^{10000} \\frac{1}{i^2},\\quad B=\\sum_{i=10000}^{1} \\frac{1}{i^2}.$$\n",
    "Calculate the values of $A$ and $B$ and compare them. What do you observe? Explain why this happens. What is the best way to calculate the value of $\\sum\\limits_{i=1}^{10000} \\dfrac{1}{i^2}$?"
   ]
  },
  {
   "cell_type": "code",
   "execution_count": 48,
   "id": "efadaf97-b148-4a07-89f1-4d57a7fc3334",
   "metadata": {
    "id": "3q93uGqFoBGl"
   },
   "outputs": [
    {
     "name": "stdout",
     "output_type": "stream",
     "text": [
      "1.6448340718480599 1.6448340718480599 0.0\n"
     ]
    }
   ],
   "source": [
    "A = sum(f(1 / i ** 2) for i in range(1, 10001))\n",
    "B = sum(f(1 / i ** 2) for i in range(10000, 0, -1))\n",
    "\n",
    "print(A, B, abs(A - B))"
   ]
  },
  {
   "cell_type": "markdown",
   "id": "32207d96-dcf7-4571-97af-7103b43847a8",
   "metadata": {},
   "source": [
    "`A` и `B` равны, вообще сумма может меняться от порядка суммирования из-за особенностей реализации чисел с плавающей запятой, но в данном случае такого не происходит.\n"
   ]
  }
 ],
 "metadata": {
  "kernelspec": {
   "display_name": "Python 3 (ipykernel)",
   "language": "python",
   "name": "python3"
  },
  "language_info": {
   "codemirror_mode": {
    "name": "ipython",
    "version": 3
   },
   "file_extension": ".py",
   "mimetype": "text/x-python",
   "name": "python",
   "nbconvert_exporter": "python",
   "pygments_lexer": "ipython3",
   "version": "3.13.2"
  }
 },
 "nbformat": 4,
 "nbformat_minor": 5
}
